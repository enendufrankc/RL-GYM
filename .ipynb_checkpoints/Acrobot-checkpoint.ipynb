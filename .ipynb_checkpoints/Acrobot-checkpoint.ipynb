{
 "cells": [
  {
   "cell_type": "markdown",
   "metadata": {
    "id": "xSvn0iYttPd5"
   },
   "source": [
    "# **Implement a Deep Reinforcement Learning method for an Acrobot Game**"
   ]
  },
  {
   "cell_type": "markdown",
   "metadata": {
    "id": "b6yFDKR2tbP-"
   },
   "source": [
    "**Introduction:**\n",
    "\n",
    "The goal of this project is to implement a Deep Q-Network (DQN) algorithm to learn to play the classic \"Acrobot\" game in the OpenAI Gym environment. The CartPole game involves balancing a pole on a cart that moves along a track, and the goal is to keep the pole balanced for as long as possible. The game is considered solved if the agent can balance the pole for at least 195 consecutive time steps."
   ]
  },
  {
   "cell_type": "markdown",
   "metadata": {
    "id": "NNyJra1DtpTd"
   },
   "source": [
    "\n",
    "\n",
    "**Methodology:**"
   ]
  },
  {
   "cell_type": "markdown",
   "metadata": {
    "id": "kj9pvtlBt1Ns"
   },
   "source": [
    "Implementing DQN algorithm involved the following components:\n",
    "\n",
    "\n",
    "*   A Q-Network\n",
    "*   Replay Memory\n",
    "*   Exploration Strategy\n",
    "*   Target Network\n",
    "\n",
    "\n"
   ]
  },
  {
   "cell_type": "markdown",
   "metadata": {
    "id": "ia2AtdnMvijI"
   },
   "source": [
    "###### Step1:  To Implement this, first we import all the neccesary libraries"
   ]
  },
  {
   "cell_type": "code",
   "execution_count": 42,
   "metadata": {
    "id": "WcGXcG5zmbzy"
   },
   "outputs": [],
   "source": [
    "import gym\n",
    "import matplotlib.pyplot as plt\n",
    "\n",
    "import math\n",
    "import random\n",
    "import matplotlib\n",
    "import matplotlib.pyplot as plt\n",
    "from collections import namedtuple, deque\n",
    "from itertools import count\n",
    "\n",
    "import torch\n",
    "import torch.nn as nn\n",
    "import torch.optim as optim\n",
    "import torch.nn.functional as F"
   ]
  },
  {
   "cell_type": "markdown",
   "metadata": {
    "id": "w6kveDz-v6nO"
   },
   "source": [
    "###### Step2:  We create the gym environment, in this case the Acrobot **environment**"
   ]
  },
  {
   "cell_type": "code",
   "execution_count": 43,
   "metadata": {
    "colab": {
     "base_uri": "https://localhost:8080/",
     "height": 577
    },
    "id": "M_to_gJXSNbp",
    "outputId": "92cc64c6-df39-47a0-970d-b5bf01cb7926"
   },
   "outputs": [
    {
     "name": "stderr",
     "output_type": "stream",
     "text": [
      "/usr/local/lib/python3.9/dist-packages/gym/core.py:317: DeprecationWarning: \u001b[33mWARN: Initializing wrapper in old step API which returns one bool instead of two. It is recommended to set `new_step_api=True` to use new step API. This will be the default behaviour in future.\u001b[0m\n",
      "  deprecation(\n",
      "/usr/local/lib/python3.9/dist-packages/gym/wrappers/step_api_compatibility.py:39: DeprecationWarning: \u001b[33mWARN: Initializing environment in old step API which returns one bool instead of two. It is recommended to set `new_step_api=True` to use new step API. This will be the default behaviour in future.\u001b[0m\n",
      "  deprecation(\n",
      "/usr/local/lib/python3.9/dist-packages/gym/core.py:43: DeprecationWarning: \u001b[33mWARN: The argument mode in render method is deprecated; use render_mode during environment initialization instead.\n",
      "See here for more information: https://www.gymlibrary.ml/content/api/\u001b[0m\n",
      "  deprecation(\n"
     ]
    },
    {
     "data": {
      "image/png": "[encoded data removed]",
      "text/plain": [
       "<Figure size 640x480 with 1 Axes>"
      ]
     },
     "metadata": {},
     "output_type": "display_data"
    }
   ],
   "source": [
    "# Create the environment\n",
    "env = gym.make('Acrobot-v1')\n",
    "\n",
    "# Reset the environment\n",
    "observation = env.reset()\n",
    "\n",
    "# Create a figure and axis object\n",
    "fig, ax = plt.subplots()\n",
    "\n",
    "# Main loop\n",
    "while True:\n",
    "    # Render the environment\n",
    "    ax.imshow(env.render(mode='rgb_array'))\n",
    "\n",
    "    # Take a random action\n",
    "    action = env.action_space.sample()\n",
    "\n",
    "    # Step the environment\n",
    "    observation, reward, done, info = env.step(action)\n",
    "\n",
    "    # Check if the game is over\n",
    "    if done:\n",
    "        break\n",
    "\n",
    "# Close the environment\n",
    "env.close()\n",
    "\n",
    "# Show the plot\n",
    "plt.show()"
   ]
  },
  {
   "cell_type": "markdown",
   "metadata": {
    "id": "BnJwxrlSwaZ0"
   },
   "source": [
    "##### Step 3: We then set up the device \n",
    "\n",
    "The environment is created using `gym.make('Acrobot-v1')`, and the `reset()` function is used to initialize the game state. The main loop of the game is implemented using a while loop, in which the environment is rendered, a random action is taken, and the environment is stepped using env.step(action)."
   ]
  },
  {
   "cell_type": "code",
   "execution_count": 44,
   "metadata": {
    "colab": {
     "base_uri": "https://localhost:8080/"
    },
    "id": "nszoXN_ESNYm",
    "outputId": "0b458b3d-4aa1-4269-a9b0-39c3a878c989"
   },
   "outputs": [
    {
     "name": "stdout",
     "output_type": "stream",
     "text": [
      "cpu\n"
     ]
    }
   ],
   "source": [
    "# Create the environment\n",
    "env = gym.make(\"Acrobot-v1\")\n",
    "\n",
    "# Set up matplotlib for interactive plotting\n",
    "# (for use in Jupyter notebooks or IPython)\n",
    "is_ipython = \"inline\" in plt.get_backend()\n",
    "if is_ipython:\n",
    "    from IPython import display\n",
    "plt.ion()\n",
    "\n",
    "# Set up the device to use (CPU or GPU)\n",
    "device = torch.device(\"cuda\" if torch.cuda.is_available() else \"cpu\")\n",
    "\n",
    "# Print the device being used\n",
    "print(device)"
   ]
  },
  {
   "cell_type": "markdown",
   "metadata": {
    "id": "EWnckSPOyWwg"
   },
   "source": [
    "We used the `device` variable to later move the neural network and other tensors to the specified device, ensuring that the computations are performed on the selected hardware. This can significantly speed up the training process, especially when dealing with large neural networks and datasets."
   ]
  },
  {
   "cell_type": "markdown",
   "metadata": {
    "id": "Qk7Umv8nynnN"
   },
   "source": [
    "##### Step4:  Building the Deep Q-Network\n",
    "\n",
    "The DQN architecture is defined in the DQN class, which is a neural network with three layers: two hidden layers with 128 neurons each and one output layer with the number of neurons equal to the number of actions. The forward() function defines the forward pass through the network."
   ]
  },
  {
   "cell_type": "code",
   "execution_count": 45,
   "metadata": {
    "id": "i_49cc6RSNV-"
   },
   "outputs": [],
   "source": [
    "class DQN(nn.Module):\n",
    "    \"\"\"\n",
    "    Deep Q-Network (DQN) class.\n",
    "\n",
    "    Parameters:\n",
    "        n_observations (int): Number of observations (input size).\n",
    "        n_actions (int): Number of possible actions (output size).\n",
    "    \"\"\"\n",
    "\n",
    "    def __init__(self, n_observations, n_actions):\n",
    "        super(DQN, self).__init__()\n",
    "        self.layer1 = nn.Linear(n_observations, 128) # First hidden layer with 128 neurons\n",
    "        self.layer2 = nn.Linear(128, 128) # Second hidden layer with 128 neurons\n",
    "        self.layer3 = nn.Linear(128, n_actions) # Output layer with n_actions neurons\n",
    "\n",
    "    def forward(self, x):\n",
    "        \"\"\"\n",
    "        Forward pass through the network.\n",
    "\n",
    "        Parameters:\n",
    "            x (tensor): Input tensor with shape (batch_size, n_observations).\n",
    "\n",
    "        Returns:\n",
    "            tensor: Output tensor with shape (batch_size, n_actions).\n",
    "        \"\"\"\n",
    "        x = F.relu(self.layer1(x))\n",
    "        x = F.relu(self.layer2(x))\n",
    "        return self.layer3(x)\n"
   ]
  },
  {
   "cell_type": "markdown",
   "metadata": {
    "id": "m_lDRgRlzhYu"
   },
   "source": [
    "We then set up hyperparameters and initializing a reinforcement learning environment with a neural network-based policy network and a target network. \n",
    "\n",
    "The hyperparameters of the DQN algorithm are set as follows: `BATCH_SIZE` is the number of transitions sampled from the replay buffer, `GAMMA` is the discount factor, `EPS_START` and `EPS_END` are the starting and ending values of epsilon for the epsilon-greedy strategy, `EPS_DECAY` controls the rate of exponential decay of epsilon, `TAU` is the update rate of the target network, and `LR` is the learning rate of the optimizer.\n",
    "\n",
    "The policy network's weights are loaded onto the target network. The code also initializes the optimizer for the policy network. Finally, the code defines a named tuple for storing the transition experiences in the replay memory."
   ]
  },
  {
   "cell_type": "code",
   "execution_count": 46,
   "metadata": {
    "id": "5E5tvQ-MoDZM"
   },
   "outputs": [],
   "source": [
    "# Define the hyperparameters\n",
    "BATCH_SIZE = 128\n",
    "GAMMA = 0.99\n",
    "EPS_START = 0.9\n",
    "EPS_END = 0.05\n",
    "EPS_DECAY = 1000\n",
    "TAU = 0.005\n",
    "LR = 1e-4\n",
    "\n",
    "# Get number of actions and state observations\n",
    "n_actions = env.action_space.n\n",
    "state = env.reset()\n",
    "n_observations = len(state)\n",
    "\n",
    "# Initialize policy and target networks\n",
    "policy_net = DQN(n_observations, n_actions).to(device)\n",
    "target_net = DQN(n_observations, n_actions).to(device)\n",
    "\n",
    "# Load the weights of the policy network to the target network\n",
    "target_net.load_state_dict(policy_net.state_dict())\n",
    "\n",
    "# Define the replay memory transition as a named tuple\n",
    "Transition = namedtuple('Transition', ('state', 'action', 'next_state', 'reward'))\n",
    "\n",
    "# Initialize the optimizer\n",
    "optimizer = optim.AdamW(policy_net.parameters(), lr=LR)"
   ]
  },
  {
   "cell_type": "markdown",
   "metadata": {
    "id": "3jfHC4v5z9af"
   },
   "source": [
    "##### Step 5: Creating the Replay Memory Class and important functions\n",
    "\n",
    "The `ReplayMemory `class is used to store transitions of states, actions, next states, and rewards to be used for experience replay. The `select_action` function implements the epsilon-greedy strategy for selecting actions. The `plot_durations` function is used to plot the duration of each episode during training."
   ]
  },
  {
   "cell_type": "code",
   "execution_count": 47,
   "metadata": {
    "id": "zRTOg6BdoXIY"
   },
   "outputs": [],
   "source": [
    "class ReplayMemory(object):\n",
    "    \"\"\"Replay Memory implementation to store transitions and sample from them\"\"\"\n",
    "    \n",
    "    def __init__(self, capacity):\n",
    "        \"\"\"Initialize the Replay Memory\n",
    "        \n",
    "        Args:\n",
    "        capacity (int): Maximum capacity of the Replay Memory\n",
    "        \"\"\"\n",
    "        self.memory = deque([], maxlen=capacity)\n",
    "\n",
    "    def push(self, *args):\n",
    "        \"\"\"Save a transition\n",
    "        \n",
    "        Args:\n",
    "        *args: Tuple of state, action, next state, and reward\n",
    "        \"\"\"\n",
    "        self.memory.append(Transition(*args))\n",
    "\n",
    "    def sample(self, batch_size):\n",
    "        \"\"\"Sample a random batch of transitions\n",
    "        \n",
    "        Args:\n",
    "        batch_size (int): Number of transitions to sample\n",
    "        \n",
    "        Returns:\n",
    "        List of randomly sampled transitions from the Replay Memory\n",
    "        \"\"\"\n",
    "        return random.sample(self.memory, batch_size)\n",
    "\n",
    "    def __len__(self):\n",
    "        \"\"\"Return the length of the Replay Memory\"\"\"\n",
    "        return len(self.memory)\n"
   ]
  },
  {
   "cell_type": "code",
   "execution_count": 48,
   "metadata": {
    "id": "dhFT_oKOpWD0"
   },
   "outputs": [],
   "source": [
    "# Create an AdamW optimizer and pass the policy_net's parameters to it\n",
    "optimizer = optim.AdamW(policy_net.parameters(), lr=LR, amsgrad=True)\n",
    "\n",
    "# Initialize a replay memory with a capacity of 10000\n",
    "memory = ReplayMemory(10000)\n",
    "\n",
    "# Set the initial number of steps that the agent has taken to 0\n",
    "steps_done = 0"
   ]
  },
  {
   "cell_type": "code",
   "execution_count": 49,
   "metadata": {
    "id": "v1MvQ6kFplAt"
   },
   "outputs": [],
   "source": [
    "def select_action(state):\n",
    "    \"\"\"\n",
    "    Select an action to take based on the current state of the environment\n",
    "\n",
    "    Args:\n",
    "    - state (torch.tensor): current state of the environment\n",
    "\n",
    "    Returns:\n",
    "    - (torch.tensor): action to take based on the current state\n",
    "    \"\"\"\n",
    "    global steps_done\n",
    "    sample = random.random() # generate a random number between 0 and 1\n",
    "    eps_threshold = EPS_END + (EPS_START - EPS_END) * \\\n",
    "        math.exp(-1. * steps_done / EPS_DECAY) # calculate the threshold for exploration\n",
    "    steps_done += 1\n",
    "    if sample > eps_threshold: # if the random number is greater than the threshold, select the action with the highest Q-value\n",
    "        with torch.no_grad():\n",
    "            # t.max(1) will return the largest column value of each row.\n",
    "            # the second column on max result is index of where max element was\n",
    "            # found, so we pick action with the larger expected reward.\n",
    "            return policy_net(state).max(1)[1].view(1, 1)\n",
    "    else: # else, select a random action from the environment's action space\n",
    "        return torch.tensor([[env.action_space.sample()]], device=device, dtype=torch.long)\n"
   ]
  },
  {
   "cell_type": "code",
   "execution_count": 50,
   "metadata": {
    "id": "41hvFrMJqBLM"
   },
   "outputs": [],
   "source": [
    "episode_durations = []\n",
    "\n",
    "def plot_durations(show_result=False):\n",
    "    \"\"\"\n",
    "    Plot the durations of the episodes during training.\n",
    "    \n",
    "    Args:\n",
    "    show_result (bool, optional): Set True to display the final result plot. Defaults to False.\n",
    "    \"\"\"\n",
    "    \n",
    "    # Create a new figure or clear an existing figure\n",
    "    plt.figure(1)\n",
    "    \n",
    "    # Convert episode_durations list to a tensor of float dtype\n",
    "    durations_t = torch.tensor(episode_durations, dtype=torch.float)\n",
    "    \n",
    "    if show_result:\n",
    "        plt.title('Result')\n",
    "    else:\n",
    "        plt.clf()\n",
    "        plt.title('Training...')\n",
    "    \n",
    "    # Set the x and y axis labels\n",
    "    plt.xlabel('Episode')\n",
    "    plt.ylabel('Duration')\n",
    "    \n",
    "    # Plot the episode durations\n",
    "    plt.plot(durations_t.numpy())\n",
    "    \n",
    "    # Take 100 episode averages and plot them too\n",
    "    if len(durations_t) >= 100:\n",
    "        means = durations_t.unfold(0, 100, 1).mean(1).view(-1)\n",
    "        means = torch.cat((torch.zeros(99), means))\n",
    "        plt.plot(means.numpy())\n",
    "\n",
    "    # Pause for a bit so that plots are updated\n",
    "    plt.pause(0.001)\n",
    "    \n",
    "    # If using ipython notebook, clear the output display\n",
    "    if is_ipython:\n",
    "        if not show_result:\n",
    "            display.display(plt.gcf())\n",
    "            display.clear_output(wait=True)\n",
    "        else:\n",
    "            display.display(plt.gcf())\n"
   ]
  },
  {
   "cell_type": "markdown",
   "metadata": {
    "id": "urcRApVr1brP"
   },
   "source": [
    "##### Step 6: Optimising  the Q-Network\n",
    "\n",
    "Here the function `optimize_model` that optimizes the Q-Network of a reinforcement learning algorithm using backpropagation. The function does the following:\n",
    "\n",
    "1. If there are not enough transitions stored in the memory buffer to form a minibatch, it returns without doing anything.\n",
    "2. It samples a minibatch of transitions from the memory buffer.\n",
    "3. It transposes the minibatch to create a batch of states, actions, rewards, and next_states.\n",
    "4. It computes a mask of non-final states and concatenates the batch elements.\n",
    "5. It computes Q(s_t, a) - the model computes Q(s_t), then selects the columns of actions taken.\n",
    "6. It computes V(s_{t+1}) for all next states.\n",
    "7. It computes the expected Q values.\n",
    "8. It computes the Huber loss between the current state-action values and the expected state-action values.\n",
    "9. It optimizes the model using backpropagation by setting the optimizer gradients to zero, computing gradients of the loss with respect to the network parameters, and updating the parameters using the optimizer. The function also performs in-place gradient clipping to prevent the gradients from getting too large.\n",
    "\n",
    "\n",
    "\n",
    "\n"
   ]
  },
  {
   "cell_type": "code",
   "execution_count": 51,
   "metadata": {
    "id": "pflDG-32rUS6"
   },
   "outputs": [],
   "source": [
    "def optimize_model():\n",
    "    \"\"\"\n",
    "    This function optimizes the Q-Network by performing backpropagation and updating the network's parameters. \n",
    "    It relies on the global variables defined in the main function.\n",
    "\n",
    "    Returns:\n",
    "        None\n",
    "    \"\"\"\n",
    "    # If there are not enough transitions stored in the memory buffer to form a minibatch, return without doing anything\n",
    "    if len(memory) < BATCH_SIZE:\n",
    "        return\n",
    "    \n",
    "    # Sample a minibatch of transitions from the memory buffer\n",
    "    transitions = memory.sample(BATCH_SIZE)\n",
    "\n",
    "    # Transpose the minibatch to create a batch of states, actions, rewards, and next_states\n",
    "    batch = Transition(*zip(*transitions))\n",
    "\n",
    "    # Compute a mask of non-final states and concatenate the batch elements\n",
    "    non_final_mask = torch.tensor(tuple(map(lambda s: s is not None, batch.next_state)), device=device, dtype=torch.bool)\n",
    "    non_final_next_states = torch.cat([s for s in batch.next_state if s is not None])\n",
    "    state_batch = torch.cat(batch.state)\n",
    "    action_batch = torch.cat(batch.action)\n",
    "    reward_batch = torch.cat(batch.reward)\n",
    "\n",
    "    # Compute Q(s_t, a) - the model computes Q(s_t), then we select the\n",
    "    # columns of actions taken. These are the actions which would've been taken\n",
    "    # for each batch state according to policy_net\n",
    "    state_action_values = policy_net(state_batch).gather(1, action_batch) # current Q\n",
    "\n",
    "    # Compute V(s_{t+1}) for all next states.\n",
    "    # Expected values of actions for non_final_next_states are computed based\n",
    "    # on the \"older\" target_net; selecting their best reward with max(1)[0].\n",
    "    # This is merged based on the mask, such that we'll have either the expected\n",
    "    # state value or 0 in case the state was final.\n",
    "    next_state_values = torch.zeros(BATCH_SIZE, device=device)\n",
    "    with torch.no_grad():\n",
    "        next_state_values[non_final_mask] = target_net(non_final_next_states).max(1)[0]\n",
    "\n",
    "    # Compute the expected Q values\n",
    "    expected_state_action_values = (next_state_values * GAMMA) + reward_batch # r + dis * Q(s')\n",
    "\n",
    "    # Compute the Huber loss between the current state-action values and the expected state-action values\n",
    "    criterion = nn.SmoothL1Loss()\n",
    "    loss = criterion(state_action_values, expected_state_action_values.unsqueeze(1))\n",
    "\n",
    "    # Optimize the model\n",
    "    optimizer.zero_grad()   # Set optimizer gradients\n",
    "    loss.backward()\n",
    "    # In-place gradient clipping\n",
    "    torch.nn.utils.clip_grad_value_(policy_net.parameters(), 100)\n",
    "    optimizer.step()\n"
   ]
  },
  {
   "cell_type": "markdown",
   "metadata": {
    "id": "lMqcnBw7483O"
   },
   "source": [
    "##### Step : Training the Reinforcement Learning Agent\n",
    "\n",
    "We implementing the training loop for a reinforcement learning agent. The agent interacts with an environment in a loop of episodes, each episode consisting of several time steps. During each time step, the agent selects an action according to its current policy, takes that action in the environment, and receives a reward and the next state from the environment. The agent stores the transition in a memory buffer and uses it to update its Q-network by performing backpropagation and optimization. The target network's weights are also updated by a soft update. The loop continues until the maximum number of episodes is reached. Finally, the episode durations are plotted, and the training is completed.\n",
    "\n",
    "\n"
   ]
  },
  {
   "cell_type": "code",
   "execution_count": 52,
   "metadata": {
    "colab": {
     "base_uri": "https://localhost:8080/",
     "height": 524
    },
    "id": "uTrom5EbSpMC",
    "outputId": "c34ea5b3-1a2a-4a33-acf9-37a61772b401"
   },
   "outputs": [
    {
     "name": "stdout",
     "output_type": "stream",
     "text": [
      "Complete\n"
     ]
    },
    {
     "data": {
      "image/png": "[encoded data removed]",
      "text/plain": [
       "<Figure size 640x480 with 1 Axes>"
      ]
     },
     "metadata": {},
     "output_type": "display_data"
    },
    {
     "data": {
      "text/plain": [
       "<Figure size 640x480 with 0 Axes>"
      ]
     },
     "metadata": {},
     "output_type": "display_data"
    },
    {
     "data": {
      "text/plain": [
       "<Figure size 640x480 with 0 Axes>"
      ]
     },
     "metadata": {},
     "output_type": "display_data"
    }
   ],
   "source": [
    "if torch.cuda.is_available():\n",
    "    num_episodes = 100\n",
    "else:\n",
    "    num_episodes = 100\n",
    "\n",
    "for i_episode in range(num_episodes):\n",
    "    # Initialize the environment and get its state\n",
    "    state = env.reset()\n",
    "    state = torch.tensor(state, dtype=torch.float32, device=device).unsqueeze(0)\n",
    "    for t in count():\n",
    "        # Choose the next action using the current policy network\n",
    "        action = select_action(state) # trade-off between exploration and exploitation. action = env.action_space.sample() for pure exploration\n",
    "\n",
    "        # Take the action and observe the next state, reward, and termination signal\n",
    "        observation, reward, terminated, _ = env.step(action.item())\n",
    "        reward = torch.tensor([reward], device=device)\n",
    "        done = terminated\n",
    "\n",
    "        # Set the next state to None if the game is over, otherwise convert the observation to a tensor and unsqueeze it\n",
    "        if terminated:\n",
    "            next_state = None\n",
    "        else:\n",
    "            next_state = torch.tensor(observation, dtype=torch.float32, device=device).unsqueeze(0)\n",
    "\n",
    "        # Store the transition in memory\n",
    "        memory.push(state, action, next_state, reward)\n",
    "\n",
    "        # Move to the next state\n",
    "        state = next_state\n",
    "\n",
    "        # Perform one step of the optimization on the policy network\n",
    "        optimize_model()\n",
    "\n",
    "        # Soft update of the target network's weights\n",
    "        # θ′ ← τ θ + (1 −τ )θ′\n",
    "        target_net_state_dict = target_net.state_dict()\n",
    "        policy_net_state_dict = policy_net.state_dict()\n",
    "        for key in policy_net_state_dict:\n",
    "            target_net_state_dict[key] = policy_net_state_dict[key] * TAU + target_net_state_dict[key] * (1 - TAU)\n",
    "        target_net.load_state_dict(target_net_state_dict)\n",
    "\n",
    "        # Check if the game is over\n",
    "        if done:\n",
    "            # Add the episode duration to the list of durations and plot them\n",
    "            episode_durations.append(t + 1)\n",
    "            print(episode_durations[-1])\n",
    "            plot_durations()\n",
    "\n",
    "            # End the episode\n",
    "            break\n",
    "\n",
    "# End of the training\n",
    "print('Complete')\n",
    "plot_durations(show_result=True)\n",
    "plt.ioff()\n",
    "plt.show()"
   ]
  },
  {
   "cell_type": "code",
   "execution_count": 53,
   "metadata": {
    "id": "JwfvlHLh2jzG"
   },
   "outputs": [],
   "source": [
    "def visualize_gameplay(env, policy_net, device):\n",
    "    \"\"\"\n",
    "    Visualizes gameplay of the environment using the given policy network.\n",
    "\n",
    "    Args:\n",
    "    - env: The environment to visualize.\n",
    "    - policy_net: The policy network to use for action selection.\n",
    "    - device: The device (CPU or GPU) to use for computation.\n",
    "\n",
    "    Returns: None\n",
    "    \"\"\"\n",
    "    \n",
    "    # Reset the environment\n",
    "    observation = env.reset()\n",
    "\n",
    "    # Create a figure and axis object\n",
    "    fig, ax = plt.subplots()\n",
    "\n",
    "    # Main loop\n",
    "    while True:\n",
    "        # Render the environment\n",
    "        ax.imshow(env.render(mode='rgb_array'))\n",
    "\n",
    "        # Choose the action with the highest Q-value\n",
    "        with torch.no_grad():\n",
    "            state = torch.from_numpy(observation).float().unsqueeze(0).to(device)\n",
    "            action = policy_net(state).max(1)[1].item()\n",
    "\n",
    "        # Step the environment\n",
    "        observation, reward, done, info = env.step(action)\n",
    "\n",
    "        # Check if the game is over\n",
    "        if done:\n",
    "            break\n",
    "\n",
    "    # Close the environment\n",
    "    env.close()\n",
    "\n",
    "    # Show the plot\n",
    "    plt.show()\n"
   ]
  },
  {
   "cell_type": "code",
   "execution_count": 54,
   "metadata": {
    "colab": {
     "base_uri": "https://localhost:8080/",
     "height": 435
    },
    "id": "t4PnXpQOSpPF",
    "outputId": "09ae066c-06ea-4c61-a9a3-2427a084e48d"
   },
   "outputs": [
    {
     "data": {
      "image/png": "[encoded data removed]",
      "text/plain": [
       "<Figure size 640x480 with 1 Axes>"
      ]
     },
     "metadata": {},
     "output_type": "display_data"
    }
   ],
   "source": [
    "visualize_gameplay(env, policy_net, device)"
   ]
  }
 ],
 "metadata": {
  "colab": {
   "provenance": []
  },
  "kernelspec": {
   "display_name": "Python 3 (ipykernel)",
   "language": "python",
   "name": "python3"
  },
  "language_info": {
   "codemirror_mode": {
    "name": "ipython",
    "version": 3
   },
   "file_extension": ".py",
   "mimetype": "text/x-python",
   "name": "python",
   "nbconvert_exporter": "python",
   "pygments_lexer": "ipython3",
   "version": "3.10.10"
  }
 },
 "nbformat": 4,
 "nbformat_minor": 1
}
